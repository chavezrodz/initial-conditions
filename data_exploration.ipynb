{
 "cells": [
  {
   "cell_type": "code",
   "execution_count": 9,
   "metadata": {},
   "outputs": [],
   "source": [
    "import torch\n",
    "import numpy as np\n",
    "import matplotlib.pyplot as plt\n",
    "import seaborn as sns\n",
    "from dataloaders import get_iterators"
   ]
  },
  {
   "cell_type": "code",
   "execution_count": 5,
   "metadata": {},
   "outputs": [
    {
     "name": "stdout",
     "output_type": "stream",
     "text": [
      "Using Checkpoint\n",
      "torch.Size([48, 2621440])\n"
     ]
    }
   ],
   "source": [
    "(train_dl, _, _), nomrs = get_iterators(\n",
    "    datapath='data', cached=True, batch_size=16, n_workers=8\n",
    "    )\n",
    "\n",
    "arrays = list()\n",
    "for x in train_dl:\n",
    "    arrays.append(x)\n",
    "arrays = torch.cat(arrays, dim=0)\n",
    "arrays = arrays.permute((1,0,2,3)).flatten(start_dim=1, end_dim=-1)\n"
   ]
  },
  {
   "cell_type": "code",
   "execution_count": 20,
   "metadata": {},
   "outputs": [],
   "source": [
    "for idx, array in enumerate(arrays):\n",
    "    plt.hist(array, bins=25)\n",
    "    plt.savefig(f'Results/dims_histplots/{idx}.png')\n",
    "    plt.close()"
   ]
  },
  {
   "cell_type": "code",
   "execution_count": null,
   "metadata": {},
   "outputs": [],
   "source": []
  }
 ],
 "metadata": {
  "kernelspec": {
   "display_name": "Python 3.9.0 ('.venv': venv)",
   "language": "python",
   "name": "python3"
  },
  "language_info": {
   "codemirror_mode": {
    "name": "ipython",
    "version": 3
   },
   "file_extension": ".py",
   "mimetype": "text/x-python",
   "name": "python",
   "nbconvert_exporter": "python",
   "pygments_lexer": "ipython3",
   "version": "3.9.0"
  },
  "orig_nbformat": 4,
  "vscode": {
   "interpreter": {
    "hash": "00462a5dd53ebb5370283f68a1d029354fbeea0401727f4b273bee32bedbda1a"
   }
  }
 },
 "nbformat": 4,
 "nbformat_minor": 2
}
